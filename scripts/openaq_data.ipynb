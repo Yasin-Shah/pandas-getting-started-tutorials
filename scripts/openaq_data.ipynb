{
 "cells": [
  {
   "cell_type": "code",
   "execution_count": 15,
   "metadata": {},
   "outputs": [],
   "source": [
    "import pandas as pd\n",
    "import seaborn as sns\n",
    "import openaq"
   ]
  },
  {
   "cell_type": "code",
   "execution_count": 16,
   "metadata": {},
   "outputs": [],
   "source": [
    "api = openaq.OpenAQ()"
   ]
  },
  {
   "cell_type": "code",
   "execution_count": 17,
   "metadata": {},
   "outputs": [],
   "source": [
    "stations = api.locations(city=['Antwerpen', 'Paris', 'London'], df=True)"
   ]
  },
  {
   "cell_type": "code",
   "execution_count": 18,
   "metadata": {},
   "outputs": [
    {
     "data": {
      "text/html": [
       "<div>\n",
       "<style scoped>\n",
       "    .dataframe tbody tr th:only-of-type {\n",
       "        vertical-align: middle;\n",
       "    }\n",
       "\n",
       "    .dataframe tbody tr th {\n",
       "        vertical-align: top;\n",
       "    }\n",
       "\n",
       "    .dataframe thead th {\n",
       "        text-align: right;\n",
       "    }\n",
       "</style>\n",
       "<table border=\"1\" class=\"dataframe\">\n",
       "  <thead>\n",
       "    <tr style=\"text-align: right;\">\n",
       "      <th></th>\n",
       "      <th>location</th>\n",
       "      <th>city</th>\n",
       "      <th>country</th>\n",
       "      <th>count</th>\n",
       "      <th>sourceNames</th>\n",
       "      <th>lastUpdated</th>\n",
       "      <th>firstUpdated</th>\n",
       "      <th>parameters</th>\n",
       "      <th>distance</th>\n",
       "      <th>sourceName</th>\n",
       "      <th>coordinates.latitude</th>\n",
       "      <th>coordinates.longitude</th>\n",
       "    </tr>\n",
       "  </thead>\n",
       "  <tbody>\n",
       "    <tr>\n",
       "      <td>0</td>\n",
       "      <td>BELAL01</td>\n",
       "      <td>Antwerpen</td>\n",
       "      <td>BE</td>\n",
       "      <td>4423</td>\n",
       "      <td>[EEA Belgium]</td>\n",
       "      <td>2019-09-15 03:00:00+00:00</td>\n",
       "      <td>2017-09-22 01:00:00+00:00</td>\n",
       "      <td>[pm25, pm10]</td>\n",
       "      <td>6699516</td>\n",
       "      <td>EEA Belgium</td>\n",
       "      <td>51.236195</td>\n",
       "      <td>4.385224</td>\n",
       "    </tr>\n",
       "    <tr>\n",
       "      <td>1</td>\n",
       "      <td>BELHB23</td>\n",
       "      <td>Antwerpen</td>\n",
       "      <td>BE</td>\n",
       "      <td>8540</td>\n",
       "      <td>[EEA Belgium]</td>\n",
       "      <td>2019-09-15 03:00:00+00:00</td>\n",
       "      <td>2017-09-22 01:00:00+00:00</td>\n",
       "      <td>[pm10, pm25, no2, so2]</td>\n",
       "      <td>6700304</td>\n",
       "      <td>EEA Belgium</td>\n",
       "      <td>51.170300</td>\n",
       "      <td>4.341005</td>\n",
       "    </tr>\n",
       "    <tr>\n",
       "      <td>2</td>\n",
       "      <td>BELLD01</td>\n",
       "      <td>Antwerpen</td>\n",
       "      <td>BE</td>\n",
       "      <td>1641</td>\n",
       "      <td>[EEA Belgium]</td>\n",
       "      <td>2019-01-09 01:00:00+00:00</td>\n",
       "      <td>2017-09-22 01:00:00+00:00</td>\n",
       "      <td>[no2]</td>\n",
       "      <td>6744160</td>\n",
       "      <td>EEA Belgium</td>\n",
       "      <td>51.109978</td>\n",
       "      <td>5.004864</td>\n",
       "    </tr>\n",
       "    <tr>\n",
       "      <td>3</td>\n",
       "      <td>BELLD02</td>\n",
       "      <td>Antwerpen</td>\n",
       "      <td>BE</td>\n",
       "      <td>2095</td>\n",
       "      <td>[EEA Belgium]</td>\n",
       "      <td>2019-09-15 03:00:00+00:00</td>\n",
       "      <td>2017-09-22 01:00:00+00:00</td>\n",
       "      <td>[no2]</td>\n",
       "      <td>6744619</td>\n",
       "      <td>EEA Belgium</td>\n",
       "      <td>51.120384</td>\n",
       "      <td>5.021546</td>\n",
       "    </tr>\n",
       "    <tr>\n",
       "      <td>4</td>\n",
       "      <td>BELR833</td>\n",
       "      <td>Antwerpen</td>\n",
       "      <td>BE</td>\n",
       "      <td>2045</td>\n",
       "      <td>[EEA Belgium]</td>\n",
       "      <td>2019-09-15 03:00:00+00:00</td>\n",
       "      <td>2017-09-23 01:00:00+00:00</td>\n",
       "      <td>[no2]</td>\n",
       "      <td>6693263</td>\n",
       "      <td>EEA Belgium</td>\n",
       "      <td>51.327660</td>\n",
       "      <td>4.362261</td>\n",
       "    </tr>\n",
       "  </tbody>\n",
       "</table>\n",
       "</div>"
      ],
      "text/plain": [
       "  location       city country  count    sourceNames               lastUpdated  \\\n",
       "0  BELAL01  Antwerpen      BE   4423  [EEA Belgium] 2019-09-15 03:00:00+00:00   \n",
       "1  BELHB23  Antwerpen      BE   8540  [EEA Belgium] 2019-09-15 03:00:00+00:00   \n",
       "2  BELLD01  Antwerpen      BE   1641  [EEA Belgium] 2019-01-09 01:00:00+00:00   \n",
       "3  BELLD02  Antwerpen      BE   2095  [EEA Belgium] 2019-09-15 03:00:00+00:00   \n",
       "4  BELR833  Antwerpen      BE   2045  [EEA Belgium] 2019-09-15 03:00:00+00:00   \n",
       "\n",
       "               firstUpdated              parameters  distance   sourceName  \\\n",
       "0 2017-09-22 01:00:00+00:00            [pm25, pm10]   6699516  EEA Belgium   \n",
       "1 2017-09-22 01:00:00+00:00  [pm10, pm25, no2, so2]   6700304  EEA Belgium   \n",
       "2 2017-09-22 01:00:00+00:00                   [no2]   6744160  EEA Belgium   \n",
       "3 2017-09-22 01:00:00+00:00                   [no2]   6744619  EEA Belgium   \n",
       "4 2017-09-23 01:00:00+00:00                   [no2]   6693263  EEA Belgium   \n",
       "\n",
       "   coordinates.latitude  coordinates.longitude  \n",
       "0             51.236195               4.385224  \n",
       "1             51.170300               4.341005  \n",
       "2             51.109978               5.004864  \n",
       "3             51.120384               5.021546  \n",
       "4             51.327660               4.362261  "
      ]
     },
     "execution_count": 18,
     "metadata": {},
     "output_type": "execute_result"
    }
   ],
   "source": [
    "stations.head()"
   ]
  },
  {
   "cell_type": "code",
   "execution_count": 47,
   "metadata": {},
   "outputs": [
    {
     "data": {
      "text/html": [
       "<div>\n",
       "<style scoped>\n",
       "    .dataframe tbody tr th:only-of-type {\n",
       "        vertical-align: middle;\n",
       "    }\n",
       "\n",
       "    .dataframe tbody tr th {\n",
       "        vertical-align: top;\n",
       "    }\n",
       "\n",
       "    .dataframe thead th {\n",
       "        text-align: right;\n",
       "    }\n",
       "</style>\n",
       "<table border=\"1\" class=\"dataframe\">\n",
       "  <thead>\n",
       "    <tr style=\"text-align: right;\">\n",
       "      <th></th>\n",
       "      <th>id</th>\n",
       "      <th>name</th>\n",
       "      <th>description</th>\n",
       "      <th>preferredUnit</th>\n",
       "    </tr>\n",
       "  </thead>\n",
       "  <tbody>\n",
       "    <tr>\n",
       "      <td>0</td>\n",
       "      <td>bc</td>\n",
       "      <td>BC</td>\n",
       "      <td>Black Carbon</td>\n",
       "      <td>µg/m³</td>\n",
       "    </tr>\n",
       "    <tr>\n",
       "      <td>1</td>\n",
       "      <td>co</td>\n",
       "      <td>CO</td>\n",
       "      <td>Carbon Monoxide</td>\n",
       "      <td>ppm</td>\n",
       "    </tr>\n",
       "    <tr>\n",
       "      <td>2</td>\n",
       "      <td>no2</td>\n",
       "      <td>NO2</td>\n",
       "      <td>Nitrogen Dioxide</td>\n",
       "      <td>ppm</td>\n",
       "    </tr>\n",
       "    <tr>\n",
       "      <td>3</td>\n",
       "      <td>o3</td>\n",
       "      <td>O3</td>\n",
       "      <td>Ozone</td>\n",
       "      <td>ppm</td>\n",
       "    </tr>\n",
       "    <tr>\n",
       "      <td>4</td>\n",
       "      <td>pm10</td>\n",
       "      <td>PM10</td>\n",
       "      <td>Particulate matter less than 10 micrometers in...</td>\n",
       "      <td>µg/m³</td>\n",
       "    </tr>\n",
       "    <tr>\n",
       "      <td>5</td>\n",
       "      <td>pm25</td>\n",
       "      <td>PM2.5</td>\n",
       "      <td>Particulate matter less than 2.5 micrometers i...</td>\n",
       "      <td>µg/m³</td>\n",
       "    </tr>\n",
       "    <tr>\n",
       "      <td>6</td>\n",
       "      <td>so2</td>\n",
       "      <td>SO2</td>\n",
       "      <td>Sulfur Dioxide</td>\n",
       "      <td>ppm</td>\n",
       "    </tr>\n",
       "  </tbody>\n",
       "</table>\n",
       "</div>"
      ],
      "text/plain": [
       "     id   name                                        description  \\\n",
       "0    bc     BC                                       Black Carbon   \n",
       "1    co     CO                                    Carbon Monoxide   \n",
       "2   no2    NO2                                   Nitrogen Dioxide   \n",
       "3    o3     O3                                              Ozone   \n",
       "4  pm10   PM10  Particulate matter less than 10 micrometers in...   \n",
       "5  pm25  PM2.5  Particulate matter less than 2.5 micrometers i...   \n",
       "6   so2    SO2                                     Sulfur Dioxide   \n",
       "\n",
       "  preferredUnit  \n",
       "0         µg/m³  \n",
       "1           ppm  \n",
       "2           ppm  \n",
       "3           ppm  \n",
       "4         µg/m³  \n",
       "5         µg/m³  \n",
       "6           ppm  "
      ]
     },
     "execution_count": 47,
     "metadata": {},
     "output_type": "execute_result"
    }
   ],
   "source": [
    "parameters = api.parameters(df=True)\n",
    "parameters"
   ]
  },
  {
   "cell_type": "markdown",
   "metadata": {},
   "source": [
    "Pick location in Londen, Antwerp and France: 'London Westminster', 'BETR801', 'FR04014'"
   ]
  },
  {
   "cell_type": "code",
   "execution_count": 48,
   "metadata": {},
   "outputs": [],
   "source": [
    "stations = ['FR04014', 'BETR801', 'London Westminster']"
   ]
  },
  {
   "cell_type": "markdown",
   "metadata": {},
   "source": [
    "## Prepare short format example data set"
   ]
  },
  {
   "cell_type": "code",
   "execution_count": 36,
   "metadata": {},
   "outputs": [],
   "source": [
    "no2_stations = [api.measurements(location=station, parameter='no2', \n",
    "                                 date_to='2019-06-21', \n",
    "                                 limit=10000, df=True) for station in stations]"
   ]
  },
  {
   "cell_type": "code",
   "execution_count": 50,
   "metadata": {},
   "outputs": [
    {
     "data": {
      "text/html": [
       "<div>\n",
       "<style scoped>\n",
       "    .dataframe tbody tr th:only-of-type {\n",
       "        vertical-align: middle;\n",
       "    }\n",
       "\n",
       "    .dataframe tbody tr th {\n",
       "        vertical-align: top;\n",
       "    }\n",
       "\n",
       "    .dataframe thead th {\n",
       "        text-align: right;\n",
       "    }\n",
       "</style>\n",
       "<table border=\"1\" class=\"dataframe\">\n",
       "  <thead>\n",
       "    <tr style=\"text-align: right;\">\n",
       "      <th></th>\n",
       "      <th>city</th>\n",
       "      <th>coordinates.latitude</th>\n",
       "      <th>coordinates.longitude</th>\n",
       "      <th>country</th>\n",
       "      <th>date.utc</th>\n",
       "      <th>location</th>\n",
       "      <th>parameter</th>\n",
       "      <th>unit</th>\n",
       "      <th>value</th>\n",
       "    </tr>\n",
       "    <tr>\n",
       "      <th>date.local</th>\n",
       "      <th></th>\n",
       "      <th></th>\n",
       "      <th></th>\n",
       "      <th></th>\n",
       "      <th></th>\n",
       "      <th></th>\n",
       "      <th></th>\n",
       "      <th></th>\n",
       "      <th></th>\n",
       "    </tr>\n",
       "  </thead>\n",
       "  <tbody>\n",
       "  </tbody>\n",
       "</table>\n",
       "</div>"
      ],
      "text/plain": [
       "Empty DataFrame\n",
       "Columns: [city, coordinates.latitude, coordinates.longitude, country, date.utc, location, parameter, unit, value]\n",
       "Index: []"
      ]
     },
     "execution_count": 50,
     "metadata": {},
     "output_type": "execute_result"
    }
   ],
   "source": [
    "no2_stations[2]"
   ]
  },
  {
   "cell_type": "code",
   "execution_count": 37,
   "metadata": {},
   "outputs": [
    {
     "name": "stderr",
     "output_type": "stream",
     "text": [
      "/home/stijnvanhoey/miniconda3/envs/pandas-dev/lib/python3.7/site-packages/ipykernel_launcher.py:1: FutureWarning: Sorting because non-concatenation axis is not aligned. A future version\n",
      "of pandas will change to not sort by default.\n",
      "\n",
      "To accept the future behavior, pass 'sort=False'.\n",
      "\n",
      "To retain the current behavior and silence the warning, pass 'sort=True'.\n",
      "\n",
      "  \"\"\"Entry point for launching an IPython kernel.\n"
     ]
    }
   ],
   "source": [
    "air_quality_data = pd.concat(no2_stations)"
   ]
  },
  {
   "cell_type": "code",
   "execution_count": 38,
   "metadata": {},
   "outputs": [
    {
     "data": {
      "text/plain": [
       "(26, 9)"
      ]
     },
     "execution_count": 38,
     "metadata": {},
     "output_type": "execute_result"
    }
   ],
   "source": [
    "air_quality_data.shape"
   ]
  },
  {
   "cell_type": "code",
   "execution_count": 43,
   "metadata": {},
   "outputs": [
    {
     "data": {
      "text/plain": [
       "array(['FR04014'], dtype=object)"
      ]
     },
     "execution_count": 43,
     "metadata": {},
     "output_type": "execute_result"
    }
   ],
   "source": [
    "air_quality_data.location.unique()"
   ]
  },
  {
   "cell_type": "code",
   "execution_count": 40,
   "metadata": {},
   "outputs": [],
   "source": [
    "no2_data = air_quality_data.pivot(columns='location', values='value')"
   ]
  },
  {
   "cell_type": "code",
   "execution_count": 41,
   "metadata": {},
   "outputs": [
    {
     "data": {
      "text/html": [
       "<div>\n",
       "<style scoped>\n",
       "    .dataframe tbody tr th:only-of-type {\n",
       "        vertical-align: middle;\n",
       "    }\n",
       "\n",
       "    .dataframe tbody tr th {\n",
       "        vertical-align: top;\n",
       "    }\n",
       "\n",
       "    .dataframe thead th {\n",
       "        text-align: right;\n",
       "    }\n",
       "</style>\n",
       "<table border=\"1\" class=\"dataframe\">\n",
       "  <thead>\n",
       "    <tr style=\"text-align: right;\">\n",
       "      <th>location</th>\n",
       "      <th>FR04014</th>\n",
       "    </tr>\n",
       "    <tr>\n",
       "      <th>date.local</th>\n",
       "      <th></th>\n",
       "    </tr>\n",
       "  </thead>\n",
       "  <tbody>\n",
       "    <tr>\n",
       "      <td>2019-06-18 03:00:00</td>\n",
       "      <td>60.1</td>\n",
       "    </tr>\n",
       "    <tr>\n",
       "      <td>2019-06-18 04:00:00</td>\n",
       "      <td>39.8</td>\n",
       "    </tr>\n",
       "    <tr>\n",
       "      <td>2019-06-18 05:00:00</td>\n",
       "      <td>45.5</td>\n",
       "    </tr>\n",
       "    <tr>\n",
       "      <td>2019-06-18 06:00:00</td>\n",
       "      <td>26.5</td>\n",
       "    </tr>\n",
       "    <tr>\n",
       "      <td>2019-06-18 07:00:00</td>\n",
       "      <td>33.8</td>\n",
       "    </tr>\n",
       "    <tr>\n",
       "      <td>2019-06-18 08:00:00</td>\n",
       "      <td>51.4</td>\n",
       "    </tr>\n",
       "    <tr>\n",
       "      <td>2019-06-18 09:00:00</td>\n",
       "      <td>52.6</td>\n",
       "    </tr>\n",
       "    <tr>\n",
       "      <td>2019-06-18 10:00:00</td>\n",
       "      <td>49.6</td>\n",
       "    </tr>\n",
       "    <tr>\n",
       "      <td>2019-06-18 21:00:00</td>\n",
       "      <td>15.3</td>\n",
       "    </tr>\n",
       "    <tr>\n",
       "      <td>2019-06-18 22:00:00</td>\n",
       "      <td>17.0</td>\n",
       "    </tr>\n",
       "    <tr>\n",
       "      <td>2019-06-18 23:00:00</td>\n",
       "      <td>23.1</td>\n",
       "    </tr>\n",
       "    <tr>\n",
       "      <td>2019-06-19 00:00:00</td>\n",
       "      <td>39.3</td>\n",
       "    </tr>\n",
       "    <tr>\n",
       "      <td>2019-06-19 11:00:00</td>\n",
       "      <td>27.3</td>\n",
       "    </tr>\n",
       "    <tr>\n",
       "      <td>2019-06-19 12:00:00</td>\n",
       "      <td>26.6</td>\n",
       "    </tr>\n",
       "    <tr>\n",
       "      <td>2019-06-20 15:00:00</td>\n",
       "      <td>19.4</td>\n",
       "    </tr>\n",
       "    <tr>\n",
       "      <td>2019-06-20 16:00:00</td>\n",
       "      <td>20.1</td>\n",
       "    </tr>\n",
       "    <tr>\n",
       "      <td>2019-06-20 17:00:00</td>\n",
       "      <td>19.3</td>\n",
       "    </tr>\n",
       "    <tr>\n",
       "      <td>2019-06-20 18:00:00</td>\n",
       "      <td>19.0</td>\n",
       "    </tr>\n",
       "    <tr>\n",
       "      <td>2019-06-20 19:00:00</td>\n",
       "      <td>23.2</td>\n",
       "    </tr>\n",
       "    <tr>\n",
       "      <td>2019-06-20 20:00:00</td>\n",
       "      <td>23.9</td>\n",
       "    </tr>\n",
       "    <tr>\n",
       "      <td>2019-06-20 21:00:00</td>\n",
       "      <td>25.3</td>\n",
       "    </tr>\n",
       "    <tr>\n",
       "      <td>2019-06-20 22:00:00</td>\n",
       "      <td>21.4</td>\n",
       "    </tr>\n",
       "    <tr>\n",
       "      <td>2019-06-20 23:00:00</td>\n",
       "      <td>24.9</td>\n",
       "    </tr>\n",
       "    <tr>\n",
       "      <td>2019-06-21 00:00:00</td>\n",
       "      <td>26.5</td>\n",
       "    </tr>\n",
       "    <tr>\n",
       "      <td>2019-06-21 01:00:00</td>\n",
       "      <td>21.8</td>\n",
       "    </tr>\n",
       "    <tr>\n",
       "      <td>2019-06-21 02:00:00</td>\n",
       "      <td>20.0</td>\n",
       "    </tr>\n",
       "  </tbody>\n",
       "</table>\n",
       "</div>"
      ],
      "text/plain": [
       "location             FR04014\n",
       "date.local                  \n",
       "2019-06-18 03:00:00     60.1\n",
       "2019-06-18 04:00:00     39.8\n",
       "2019-06-18 05:00:00     45.5\n",
       "2019-06-18 06:00:00     26.5\n",
       "2019-06-18 07:00:00     33.8\n",
       "2019-06-18 08:00:00     51.4\n",
       "2019-06-18 09:00:00     52.6\n",
       "2019-06-18 10:00:00     49.6\n",
       "2019-06-18 21:00:00     15.3\n",
       "2019-06-18 22:00:00     17.0\n",
       "2019-06-18 23:00:00     23.1\n",
       "2019-06-19 00:00:00     39.3\n",
       "2019-06-19 11:00:00     27.3\n",
       "2019-06-19 12:00:00     26.6\n",
       "2019-06-20 15:00:00     19.4\n",
       "2019-06-20 16:00:00     20.1\n",
       "2019-06-20 17:00:00     19.3\n",
       "2019-06-20 18:00:00     19.0\n",
       "2019-06-20 19:00:00     23.2\n",
       "2019-06-20 20:00:00     23.9\n",
       "2019-06-20 21:00:00     25.3\n",
       "2019-06-20 22:00:00     21.4\n",
       "2019-06-20 23:00:00     24.9\n",
       "2019-06-21 00:00:00     26.5\n",
       "2019-06-21 01:00:00     21.8\n",
       "2019-06-21 02:00:00     20.0"
      ]
     },
     "execution_count": 41,
     "metadata": {},
     "output_type": "execute_result"
    }
   ],
   "source": [
    "no2_data"
   ]
  },
  {
   "cell_type": "code",
   "execution_count": 42,
   "metadata": {},
   "outputs": [
    {
     "ename": "ValueError",
     "evalue": "Length mismatch: Expected axis has 1 elements, new values have 3 elements",
     "output_type": "error",
     "traceback": [
      "\u001b[0;31m---------------------------------------------------------------------------\u001b[0m",
      "\u001b[0;31mValueError\u001b[0m                                Traceback (most recent call last)",
      "\u001b[0;32m<ipython-input-42-cb577c7c2ffb>\u001b[0m in \u001b[0;36m<module>\u001b[0;34m\u001b[0m\n\u001b[0;32m----> 1\u001b[0;31m \u001b[0mno2_data\u001b[0m\u001b[0;34m.\u001b[0m\u001b[0mcolumns\u001b[0m \u001b[0;34m=\u001b[0m \u001b[0;34m[\u001b[0m\u001b[0;34m\"station_antwerp\"\u001b[0m\u001b[0;34m,\u001b[0m \u001b[0;34m\"station_paris\"\u001b[0m\u001b[0;34m,\u001b[0m \u001b[0;34m\"station_london\"\u001b[0m\u001b[0;34m]\u001b[0m\u001b[0;34m\u001b[0m\u001b[0;34m\u001b[0m\u001b[0m\n\u001b[0m\u001b[1;32m      2\u001b[0m \u001b[0mno2_data\u001b[0m\u001b[0;34m.\u001b[0m\u001b[0mindex\u001b[0m\u001b[0;34m.\u001b[0m\u001b[0mname\u001b[0m \u001b[0;34m=\u001b[0m \u001b[0;34m'datetime'\u001b[0m\u001b[0;34m\u001b[0m\u001b[0;34m\u001b[0m\u001b[0m\n",
      "\u001b[0;32m~/github/pandas/pandas/core/generic.py\u001b[0m in \u001b[0;36m__setattr__\u001b[0;34m(self, name, value)\u001b[0m\n\u001b[1;32m   5164\u001b[0m         \u001b[0;32mtry\u001b[0m\u001b[0;34m:\u001b[0m\u001b[0;34m\u001b[0m\u001b[0;34m\u001b[0m\u001b[0m\n\u001b[1;32m   5165\u001b[0m             \u001b[0mobject\u001b[0m\u001b[0;34m.\u001b[0m\u001b[0m__getattribute__\u001b[0m\u001b[0;34m(\u001b[0m\u001b[0mself\u001b[0m\u001b[0;34m,\u001b[0m \u001b[0mname\u001b[0m\u001b[0;34m)\u001b[0m\u001b[0;34m\u001b[0m\u001b[0;34m\u001b[0m\u001b[0m\n\u001b[0;32m-> 5166\u001b[0;31m             \u001b[0;32mreturn\u001b[0m \u001b[0mobject\u001b[0m\u001b[0;34m.\u001b[0m\u001b[0m__setattr__\u001b[0m\u001b[0;34m(\u001b[0m\u001b[0mself\u001b[0m\u001b[0;34m,\u001b[0m \u001b[0mname\u001b[0m\u001b[0;34m,\u001b[0m \u001b[0mvalue\u001b[0m\u001b[0;34m)\u001b[0m\u001b[0;34m\u001b[0m\u001b[0;34m\u001b[0m\u001b[0m\n\u001b[0m\u001b[1;32m   5167\u001b[0m         \u001b[0;32mexcept\u001b[0m \u001b[0mAttributeError\u001b[0m\u001b[0;34m:\u001b[0m\u001b[0;34m\u001b[0m\u001b[0;34m\u001b[0m\u001b[0m\n\u001b[1;32m   5168\u001b[0m             \u001b[0;32mpass\u001b[0m\u001b[0;34m\u001b[0m\u001b[0;34m\u001b[0m\u001b[0m\n",
      "\u001b[0;32m~/github/pandas/pandas/_libs/properties.pyx\u001b[0m in \u001b[0;36mpandas._libs.properties.AxisProperty.__set__\u001b[0;34m()\u001b[0m\n",
      "\u001b[0;32m~/github/pandas/pandas/core/generic.py\u001b[0m in \u001b[0;36m_set_axis\u001b[0;34m(self, axis, labels)\u001b[0m\n\u001b[1;32m    668\u001b[0m \u001b[0;34m\u001b[0m\u001b[0m\n\u001b[1;32m    669\u001b[0m     \u001b[0;32mdef\u001b[0m \u001b[0m_set_axis\u001b[0m\u001b[0;34m(\u001b[0m\u001b[0mself\u001b[0m\u001b[0;34m,\u001b[0m \u001b[0maxis\u001b[0m\u001b[0;34m,\u001b[0m \u001b[0mlabels\u001b[0m\u001b[0;34m)\u001b[0m\u001b[0;34m:\u001b[0m\u001b[0;34m\u001b[0m\u001b[0;34m\u001b[0m\u001b[0m\n\u001b[0;32m--> 670\u001b[0;31m         \u001b[0mself\u001b[0m\u001b[0;34m.\u001b[0m\u001b[0m_data\u001b[0m\u001b[0;34m.\u001b[0m\u001b[0mset_axis\u001b[0m\u001b[0;34m(\u001b[0m\u001b[0maxis\u001b[0m\u001b[0;34m,\u001b[0m \u001b[0mlabels\u001b[0m\u001b[0;34m)\u001b[0m\u001b[0;34m\u001b[0m\u001b[0;34m\u001b[0m\u001b[0m\n\u001b[0m\u001b[1;32m    671\u001b[0m         \u001b[0mself\u001b[0m\u001b[0;34m.\u001b[0m\u001b[0m_clear_item_cache\u001b[0m\u001b[0;34m(\u001b[0m\u001b[0;34m)\u001b[0m\u001b[0;34m\u001b[0m\u001b[0;34m\u001b[0m\u001b[0m\n\u001b[1;32m    672\u001b[0m \u001b[0;34m\u001b[0m\u001b[0m\n",
      "\u001b[0;32m~/github/pandas/pandas/core/internals/managers.py\u001b[0m in \u001b[0;36mset_axis\u001b[0;34m(self, axis, new_labels)\u001b[0m\n\u001b[1;32m    181\u001b[0m             raise ValueError(\n\u001b[1;32m    182\u001b[0m                 \u001b[0;34m\"Length mismatch: Expected axis has {old} elements, new \"\u001b[0m\u001b[0;34m\u001b[0m\u001b[0;34m\u001b[0m\u001b[0m\n\u001b[0;32m--> 183\u001b[0;31m                 \u001b[0;34m\"values have {new} elements\"\u001b[0m\u001b[0;34m.\u001b[0m\u001b[0mformat\u001b[0m\u001b[0;34m(\u001b[0m\u001b[0mold\u001b[0m\u001b[0;34m=\u001b[0m\u001b[0mold_len\u001b[0m\u001b[0;34m,\u001b[0m \u001b[0mnew\u001b[0m\u001b[0;34m=\u001b[0m\u001b[0mnew_len\u001b[0m\u001b[0;34m)\u001b[0m\u001b[0;34m\u001b[0m\u001b[0;34m\u001b[0m\u001b[0m\n\u001b[0m\u001b[1;32m    184\u001b[0m             )\n\u001b[1;32m    185\u001b[0m \u001b[0;34m\u001b[0m\u001b[0m\n",
      "\u001b[0;31mValueError\u001b[0m: Length mismatch: Expected axis has 1 elements, new values have 3 elements"
     ]
    }
   ],
   "source": [
    "no2_data.columns = [\"station_antwerp\", \"station_paris\", \"station_london\"]\n",
    "no2_data.index.name = 'datetime'"
   ]
  },
  {
   "cell_type": "code",
   "execution_count": 21,
   "metadata": {},
   "outputs": [
    {
     "data": {
      "text/html": [
       "<div>\n",
       "<style scoped>\n",
       "    .dataframe tbody tr th:only-of-type {\n",
       "        vertical-align: middle;\n",
       "    }\n",
       "\n",
       "    .dataframe tbody tr th {\n",
       "        vertical-align: top;\n",
       "    }\n",
       "\n",
       "    .dataframe thead th {\n",
       "        text-align: right;\n",
       "    }\n",
       "</style>\n",
       "<table border=\"1\" class=\"dataframe\">\n",
       "  <thead>\n",
       "    <tr style=\"text-align: right;\">\n",
       "      <th></th>\n",
       "      <th>station_antwerp</th>\n",
       "      <th>station_paris</th>\n",
       "      <th>station_london</th>\n",
       "    </tr>\n",
       "    <tr>\n",
       "      <th>datetime</th>\n",
       "      <th></th>\n",
       "      <th></th>\n",
       "      <th></th>\n",
       "    </tr>\n",
       "  </thead>\n",
       "  <tbody>\n",
       "    <tr>\n",
       "      <th>2019-05-07 02:00:00</th>\n",
       "      <td>NaN</td>\n",
       "      <td>NaN</td>\n",
       "      <td>23.0</td>\n",
       "    </tr>\n",
       "    <tr>\n",
       "      <th>2019-05-07 03:00:00</th>\n",
       "      <td>50.5</td>\n",
       "      <td>25.0</td>\n",
       "      <td>19.0</td>\n",
       "    </tr>\n",
       "    <tr>\n",
       "      <th>2019-05-07 04:00:00</th>\n",
       "      <td>45.0</td>\n",
       "      <td>27.7</td>\n",
       "      <td>19.0</td>\n",
       "    </tr>\n",
       "    <tr>\n",
       "      <th>2019-05-07 05:00:00</th>\n",
       "      <td>NaN</td>\n",
       "      <td>50.4</td>\n",
       "      <td>16.0</td>\n",
       "    </tr>\n",
       "    <tr>\n",
       "      <th>2019-05-07 06:00:00</th>\n",
       "      <td>NaN</td>\n",
       "      <td>61.9</td>\n",
       "      <td>NaN</td>\n",
       "    </tr>\n",
       "  </tbody>\n",
       "</table>\n",
       "</div>"
      ],
      "text/plain": [
       "                     station_antwerp  station_paris  station_london\n",
       "datetime                                                           \n",
       "2019-05-07 02:00:00              NaN            NaN            23.0\n",
       "2019-05-07 03:00:00             50.5           25.0            19.0\n",
       "2019-05-07 04:00:00             45.0           27.7            19.0\n",
       "2019-05-07 05:00:00              NaN           50.4            16.0\n",
       "2019-05-07 06:00:00              NaN           61.9             NaN"
      ]
     },
     "execution_count": 21,
     "metadata": {},
     "output_type": "execute_result"
    }
   ],
   "source": [
    "no2_data.head()"
   ]
  },
  {
   "cell_type": "code",
   "execution_count": 22,
   "metadata": {},
   "outputs": [],
   "source": [
    "no2_data.to_csv(\"../data/air_quality_no2.csv\")"
   ]
  },
  {
   "cell_type": "markdown",
   "metadata": {},
   "source": [
    "## Prepare long format example data set"
   ]
  },
  {
   "cell_type": "code",
   "execution_count": 23,
   "metadata": {},
   "outputs": [],
   "source": [
    "air_quality_data = pd.concat(no2_stations)\n",
    "air_quality_data = air_quality_data.reset_index()\n",
    "air_quality_data[\"unit\"] = air_quality_data[\"unit\"].str.decode(\"utf-8\")\n",
    "air_quality_data = air_quality_data[[\"city\", \"country\", \"date.utc\", \"location\", \"parameter\", \"value\", \"unit\"]]"
   ]
  },
  {
   "cell_type": "code",
   "execution_count": 24,
   "metadata": {},
   "outputs": [
    {
     "data": {
      "text/html": [
       "<div>\n",
       "<style scoped>\n",
       "    .dataframe tbody tr th:only-of-type {\n",
       "        vertical-align: middle;\n",
       "    }\n",
       "\n",
       "    .dataframe tbody tr th {\n",
       "        vertical-align: top;\n",
       "    }\n",
       "\n",
       "    .dataframe thead th {\n",
       "        text-align: right;\n",
       "    }\n",
       "</style>\n",
       "<table border=\"1\" class=\"dataframe\">\n",
       "  <thead>\n",
       "    <tr style=\"text-align: right;\">\n",
       "      <th></th>\n",
       "      <th>city</th>\n",
       "      <th>country</th>\n",
       "      <th>date.utc</th>\n",
       "      <th>location</th>\n",
       "      <th>parameter</th>\n",
       "      <th>value</th>\n",
       "      <th>unit</th>\n",
       "    </tr>\n",
       "  </thead>\n",
       "  <tbody>\n",
       "    <tr>\n",
       "      <th>0</th>\n",
       "      <td>Paris</td>\n",
       "      <td>FR</td>\n",
       "      <td>2019-06-21 00:00:00+00:00</td>\n",
       "      <td>FR04014</td>\n",
       "      <td>no2</td>\n",
       "      <td>20.0</td>\n",
       "      <td>µg/m³</td>\n",
       "    </tr>\n",
       "    <tr>\n",
       "      <th>1</th>\n",
       "      <td>Paris</td>\n",
       "      <td>FR</td>\n",
       "      <td>2019-06-20 23:00:00+00:00</td>\n",
       "      <td>FR04014</td>\n",
       "      <td>no2</td>\n",
       "      <td>21.8</td>\n",
       "      <td>µg/m³</td>\n",
       "    </tr>\n",
       "    <tr>\n",
       "      <th>2</th>\n",
       "      <td>Paris</td>\n",
       "      <td>FR</td>\n",
       "      <td>2019-06-20 22:00:00+00:00</td>\n",
       "      <td>FR04014</td>\n",
       "      <td>no2</td>\n",
       "      <td>26.5</td>\n",
       "      <td>µg/m³</td>\n",
       "    </tr>\n",
       "    <tr>\n",
       "      <th>3</th>\n",
       "      <td>Paris</td>\n",
       "      <td>FR</td>\n",
       "      <td>2019-06-20 21:00:00+00:00</td>\n",
       "      <td>FR04014</td>\n",
       "      <td>no2</td>\n",
       "      <td>24.9</td>\n",
       "      <td>µg/m³</td>\n",
       "    </tr>\n",
       "    <tr>\n",
       "      <th>4</th>\n",
       "      <td>Paris</td>\n",
       "      <td>FR</td>\n",
       "      <td>2019-06-20 20:00:00+00:00</td>\n",
       "      <td>FR04014</td>\n",
       "      <td>no2</td>\n",
       "      <td>21.4</td>\n",
       "      <td>µg/m³</td>\n",
       "    </tr>\n",
       "  </tbody>\n",
       "</table>\n",
       "</div>"
      ],
      "text/plain": [
       "    city country                  date.utc location parameter  value   unit\n",
       "0  Paris      FR 2019-06-21 00:00:00+00:00  FR04014       no2   20.0  µg/m³\n",
       "1  Paris      FR 2019-06-20 23:00:00+00:00  FR04014       no2   21.8  µg/m³\n",
       "2  Paris      FR 2019-06-20 22:00:00+00:00  FR04014       no2   26.5  µg/m³\n",
       "3  Paris      FR 2019-06-20 21:00:00+00:00  FR04014       no2   24.9  µg/m³\n",
       "4  Paris      FR 2019-06-20 20:00:00+00:00  FR04014       no2   21.4  µg/m³"
      ]
     },
     "execution_count": 24,
     "metadata": {},
     "output_type": "execute_result"
    }
   ],
   "source": [
    "air_quality_data.head()"
   ]
  },
  {
   "cell_type": "markdown",
   "metadata": {},
   "source": [
    "### Prepare long format two variable example data set"
   ]
  },
  {
   "cell_type": "code",
   "execution_count": 25,
   "metadata": {},
   "outputs": [],
   "source": [
    "pm25_stations = [api.measurements(location=station, parameter='pm25', \n",
    "                                date_to='2019-06-21', \n",
    "                                limit=10000, df=True) for station in stations]\n",
    "air_quality_data = pd.concat(pm25_stations + no2_stations)"
   ]
  },
  {
   "cell_type": "code",
   "execution_count": 26,
   "metadata": {},
   "outputs": [],
   "source": [
    "air_quality_data[\"unit\"] = air_quality_data[\"unit\"].str.decode(\"utf-8\")\n",
    "air_quality_data = air_quality_data[[\"city\", \"country\", \"date.utc\", \"location\", \"parameter\", \"value\", \"unit\"]]"
   ]
  },
  {
   "cell_type": "code",
   "execution_count": 28,
   "metadata": {},
   "outputs": [
    {
     "data": {
      "text/html": [
       "<div>\n",
       "<style scoped>\n",
       "    .dataframe tbody tr th:only-of-type {\n",
       "        vertical-align: middle;\n",
       "    }\n",
       "\n",
       "    .dataframe tbody tr th {\n",
       "        vertical-align: top;\n",
       "    }\n",
       "\n",
       "    .dataframe thead th {\n",
       "        text-align: right;\n",
       "    }\n",
       "</style>\n",
       "<table border=\"1\" class=\"dataframe\">\n",
       "  <thead>\n",
       "    <tr style=\"text-align: right;\">\n",
       "      <th></th>\n",
       "      <th>city</th>\n",
       "      <th>country</th>\n",
       "      <th>date.utc</th>\n",
       "      <th>location</th>\n",
       "      <th>parameter</th>\n",
       "      <th>value</th>\n",
       "      <th>unit</th>\n",
       "    </tr>\n",
       "    <tr>\n",
       "      <th>date.local</th>\n",
       "      <th></th>\n",
       "      <th></th>\n",
       "      <th></th>\n",
       "      <th></th>\n",
       "      <th></th>\n",
       "      <th></th>\n",
       "      <th></th>\n",
       "    </tr>\n",
       "  </thead>\n",
       "  <tbody>\n",
       "    <tr>\n",
       "      <th>2019-06-18 08:00:00</th>\n",
       "      <td>Antwerpen</td>\n",
       "      <td>BE</td>\n",
       "      <td>2019-06-18 06:00:00+00:00</td>\n",
       "      <td>BETR801</td>\n",
       "      <td>pm25</td>\n",
       "      <td>18.0</td>\n",
       "      <td>µg/m³</td>\n",
       "    </tr>\n",
       "    <tr>\n",
       "      <th>2019-06-17 10:00:00</th>\n",
       "      <td>Antwerpen</td>\n",
       "      <td>BE</td>\n",
       "      <td>2019-06-17 08:00:00+00:00</td>\n",
       "      <td>BETR801</td>\n",
       "      <td>pm25</td>\n",
       "      <td>6.5</td>\n",
       "      <td>µg/m³</td>\n",
       "    </tr>\n",
       "    <tr>\n",
       "      <th>2019-06-17 09:00:00</th>\n",
       "      <td>Antwerpen</td>\n",
       "      <td>BE</td>\n",
       "      <td>2019-06-17 07:00:00+00:00</td>\n",
       "      <td>BETR801</td>\n",
       "      <td>pm25</td>\n",
       "      <td>18.5</td>\n",
       "      <td>µg/m³</td>\n",
       "    </tr>\n",
       "    <tr>\n",
       "      <th>2019-06-17 08:00:00</th>\n",
       "      <td>Antwerpen</td>\n",
       "      <td>BE</td>\n",
       "      <td>2019-06-17 06:00:00+00:00</td>\n",
       "      <td>BETR801</td>\n",
       "      <td>pm25</td>\n",
       "      <td>16.0</td>\n",
       "      <td>µg/m³</td>\n",
       "    </tr>\n",
       "    <tr>\n",
       "      <th>2019-06-17 07:00:00</th>\n",
       "      <td>Antwerpen</td>\n",
       "      <td>BE</td>\n",
       "      <td>2019-06-17 05:00:00+00:00</td>\n",
       "      <td>BETR801</td>\n",
       "      <td>pm25</td>\n",
       "      <td>7.5</td>\n",
       "      <td>µg/m³</td>\n",
       "    </tr>\n",
       "  </tbody>\n",
       "</table>\n",
       "</div>"
      ],
      "text/plain": [
       "                          city country                   date.utc location  \\\n",
       "date.local                                                                   \n",
       "2019-06-18 08:00:00  Antwerpen      BE  2019-06-18 06:00:00+00:00  BETR801   \n",
       "2019-06-17 10:00:00  Antwerpen      BE  2019-06-17 08:00:00+00:00  BETR801   \n",
       "2019-06-17 09:00:00  Antwerpen      BE  2019-06-17 07:00:00+00:00  BETR801   \n",
       "2019-06-17 08:00:00  Antwerpen      BE  2019-06-17 06:00:00+00:00  BETR801   \n",
       "2019-06-17 07:00:00  Antwerpen      BE  2019-06-17 05:00:00+00:00  BETR801   \n",
       "\n",
       "                    parameter  value   unit  \n",
       "date.local                                   \n",
       "2019-06-18 08:00:00      pm25   18.0  µg/m³  \n",
       "2019-06-17 10:00:00      pm25    6.5  µg/m³  \n",
       "2019-06-17 09:00:00      pm25   18.5  µg/m³  \n",
       "2019-06-17 08:00:00      pm25   16.0  µg/m³  \n",
       "2019-06-17 07:00:00      pm25    7.5  µg/m³  "
      ]
     },
     "execution_count": 28,
     "metadata": {},
     "output_type": "execute_result"
    }
   ],
   "source": [
    "air_quality_data.head()"
   ]
  },
  {
   "cell_type": "code",
   "execution_count": 102,
   "metadata": {},
   "outputs": [],
   "source": [
    "air_quality_data.to_csv(\"../data/air_quality_long.csv\", index=False)"
   ]
  },
  {
   "cell_type": "markdown",
   "metadata": {},
   "source": [
    "Save the two data sets separately:"
   ]
  },
  {
   "cell_type": "code",
   "execution_count": 35,
   "metadata": {},
   "outputs": [],
   "source": [
    "air_quality_data[air_quality_data[\"parameter\"] == \"pm25\"].to_csv(\"../data/air_quality_pm25_long.csv\", index=False)\n",
    "air_quality_data[air_quality_data[\"parameter\"] == \"no2\"].to_csv(\"../data/air_quality_no2_long.csv\", index=False)"
   ]
  },
  {
   "cell_type": "markdown",
   "metadata": {},
   "source": [
    "Save the air quality stations and parameter metadata as well:"
   ]
  },
  {
   "cell_type": "code",
   "execution_count": 8,
   "metadata": {},
   "outputs": [],
   "source": [
    "stations.to_csv(\"../data/air_quality_stations.csv\", index=False)\n",
    "parameters.to_csv(\"../data/air_quality_parameters.csv\", index=False)"
   ]
  }
 ],
 "metadata": {
  "kernelspec": {
   "display_name": "Python 3",
   "language": "python",
   "name": "python3"
  },
  "language_info": {
   "codemirror_mode": {
    "name": "ipython",
    "version": 3
   },
   "file_extension": ".py",
   "mimetype": "text/x-python",
   "name": "python",
   "nbconvert_exporter": "python",
   "pygments_lexer": "ipython3",
   "version": "3.7.3"
  }
 },
 "nbformat": 4,
 "nbformat_minor": 2
}
